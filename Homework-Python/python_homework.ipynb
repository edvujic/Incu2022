{
 "cells": [
  {
   "cell_type": "markdown",
   "id": "e38c4e3d",
   "metadata": {},
   "source": [
    "# Homework"
   ]
  },
  {
   "cell_type": "markdown",
   "id": "7db23e00",
   "metadata": {},
   "source": [
    "1. Fix the code below."
   ]
  },
  {
   "cell_type": "code",
   "execution_count": 2,
   "id": "10366036",
   "metadata": {},
   "outputs": [
    {
     "name": "stdout",
     "output_type": "stream",
     "text": [
      "1\n",
      "3\n",
      "5\n",
      "7\n",
      "9\n",
      "25\n"
     ]
    }
   ],
   "source": [
    "# CODE\n",
    "result1 = 0+1\n",
    "print(result1)\n",
    "result2 = 1+2\n",
    "print(result2)\n",
    "result3 = 2+3\n",
    "print(result3)\n",
    "result4 = 3+4\n",
    "print(result4)\n",
    "result5 = 4+5\n",
    "print(result5)\n",
    "final = result1 + result2 + result3 + result4 + result5\n",
    "\n",
    "print(final)"
   ]
  },
  {
   "cell_type": "markdown",
   "id": "4987d5bf",
   "metadata": {},
   "source": [
    "My solution:"
   ]
  },
  {
   "cell_type": "code",
   "execution_count": 3,
   "id": "c45b0907",
   "metadata": {},
   "outputs": [
    {
     "name": "stdout",
     "output_type": "stream",
     "text": [
      "1\n",
      "3\n",
      "5\n",
      "7\n",
      "9\n",
      "25\n"
     ]
    }
   ],
   "source": [
    "def increment_by_two(n, rng):\n",
    "    \n",
    "    \n",
    "    result = 0 # used for the final result\n",
    "    for i in range(rng): # looping through\n",
    "        result = result + n # used for the inital 1\n",
    "        print(n)\n",
    "        n = n+2 # n being incremented\n",
    "        \n",
    "    return result\n",
    "        \n",
    "result = increment_by_two(1, 5)\n",
    "print(result)"
   ]
  },
  {
   "cell_type": "markdown",
   "id": "eb740b31",
   "metadata": {},
   "source": [
    "2. These functions doesn't work as expected. Fix them:"
   ]
  },
  {
   "cell_type": "code",
   "execution_count": 4,
   "id": "4521e4bc",
   "metadata": {},
   "outputs": [
    {
     "name": "stdout",
     "output_type": "stream",
     "text": [
      "Result: 8\n",
      "8\n",
      "Result: 15\n",
      "15\n"
     ]
    }
   ],
   "source": [
    "def test_function(a,b):\n",
    "    \"\"\" Why result1 is None? :(\n",
    "    \"\"\"\n",
    "    result = a*b\n",
    "    print('Result: {0}'.format(result))\n",
    "    return result # we miss the return statement here <-\n",
    "\n",
    "result1 = test_function(2,4)\n",
    "print(result1)\n",
    "\n",
    "\n",
    "#######################################\n",
    "\n",
    "def test_function2(a,b):\n",
    "    \"\"\" Why do we have only 15 instead of Result: 15 as well? :(\n",
    "    \"\"\"\n",
    "    result = a*b\n",
    "    # return result # <- after this statement, nothing is executed!\n",
    "    print('Result: {0}'.format(result))\n",
    "    return result # <- now it will work properly\n",
    "\n",
    "result2 = test_function2(3,5)\n",
    "print(result2)"
   ]
  },
  {
   "cell_type": "markdown",
   "id": "28583a56",
   "metadata": {},
   "source": [
    "3. Write a class definition of a Pizza, create 3 pizzas:\n",
    "- 50cm, Quattro Formaggi with olive oil\n",
    "- 32cm, Prosciutto with garlic sauce\n",
    "- 40cm, Margheritta with tomato sauce"
   ]
  },
  {
   "cell_type": "code",
   "execution_count": 5,
   "id": "486e02fc",
   "metadata": {},
   "outputs": [
    {
     "name": "stdout",
     "output_type": "stream",
     "text": [
      "50cm, Quattro Formaggi with olive oil\n",
      "32cm, Prosciutto with garlic sauce\n",
      "40cm, Margheritta with tomato sauce\n"
     ]
    }
   ],
   "source": [
    "class Pizza: \n",
    "    # init method or constructor\n",
    "    def __init__(self, circ, pizza_type, extra):\n",
    "        self.circ = circ # pizza's circumference\n",
    "        self.pizza_type = pizza_type # type of pizza\n",
    "        self.extra = extra # the extra ingredient\n",
    "        \n",
    "    def info(self):\n",
    "        print('{0}cm, {1} with {2}'.format(self.circ, self.pizza_type, self.extra))\n",
    "\n",
    "# creating list for pizza objects\n",
    "pizza_list = []\n",
    "\n",
    "# appending instances to list\n",
    "pizza_list.append(Pizza(50, \"Quattro Formaggi\", \"olive oil\"))\n",
    "pizza_list.append(Pizza(32, \"Prosciutto\", \"garlic sauce\"))\n",
    "pizza_list.append(Pizza(40, \"Margheritta\", \"tomato sauce\"))\n",
    "\n",
    "for pizza in pizza_list:\n",
    "    pizza.info()"
   ]
  },
  {
   "cell_type": "markdown",
   "id": "6176e05e",
   "metadata": {},
   "source": [
    "4. Unit Testing:  \n",
    "Write function that once inputted a birth year - will validate whether the person is above 80 years old and by that - classified to get a COVID vaccine! Raise AssertionError if not."
   ]
  },
  {
   "cell_type": "code",
   "execution_count": 6,
   "id": "92101d48",
   "metadata": {},
   "outputs": [
    {
     "name": "stdout",
     "output_type": "stream",
     "text": [
      "What's your age? 81\n",
      "Classifed for COVID vaccine!\n"
     ]
    }
   ],
   "source": [
    "def check_year():\n",
    "    year = int(input(\"What's your age? \"))\n",
    "    try:\n",
    "        assert year >= 80, \"Not classified for COVID vaccine!\"\n",
    "        print(\"Classifed for COVID vaccine!\")\n",
    "        \n",
    "    except AssertionError as msg: # assertionerror is raised as messaged\n",
    "        print(msg)\n",
    "        \n",
    "check_year()    "
   ]
  },
  {
   "cell_type": "code",
   "execution_count": 7,
   "id": "088b8105",
   "metadata": {},
   "outputs": [
    {
     "name": "stdout",
     "output_type": "stream",
     "text": [
      "What's your age? 18\n",
      "Not classified for COVID vaccine!\n"
     ]
    }
   ],
   "source": [
    "def check_year():\n",
    "    year = int(input(\"What's your age? \"))\n",
    "    try:\n",
    "        assert year >= 80, \"Not classified for COVID vaccine!\"\n",
    "        print(\"Classifed for COVID vaccine!\")\n",
    "        \n",
    "    except AssertionError as msg: # assertionerror is raised as messaged\n",
    "        print(msg)\n",
    "        \n",
    "check_year()   "
   ]
  }
 ],
 "metadata": {
  "kernelspec": {
   "display_name": "Python 3",
   "language": "python",
   "name": "python3"
  },
  "language_info": {
   "codemirror_mode": {
    "name": "ipython",
    "version": 3
   },
   "file_extension": ".py",
   "mimetype": "text/x-python",
   "name": "python",
   "nbconvert_exporter": "python",
   "pygments_lexer": "ipython3",
   "version": "3.8.8"
  }
 },
 "nbformat": 4,
 "nbformat_minor": 5
}
